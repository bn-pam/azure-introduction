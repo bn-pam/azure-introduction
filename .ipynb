{
 "cells": [
  {
   "cell_type": "markdown",
   "metadata": {},
   "source": [
    "consigne : \n",
    "Créer un script de création de groupe de ressources: (créer un fichier .sh et l'exécuter avec linux)\n",
    "Utilisez des variables d’environnement pour définir les paramètres de votre groupe de ressources (nom, localisation)"
   ]
  },
  {
   "cell_type": "code",
   "execution_count": null,
   "metadata": {},
   "outputs": [],
   "source": [
    "exemples de commandes Azure :\n",
    "\n",
    "az login ################### se connecter à son compte Azure\n",
    "az account list --create table #savoir combien d'abonnements on a (\"subscription\")\n",
    "az group create --name demoressourcegroup --location francecentral #commande pour créer son groupe ressources"
   ]
  },
  {
   "cell_type": "markdown",
   "metadata": {},
   "source": [
    "rendre le fichier .sh executable avec cette commande : \n",
    "chmod +x suppr_RG.sh\n",
    "./suppr_RG.sh"
   ]
  },
  {
   "cell_type": "markdown",
   "metadata": {},
   "source": [
    "##### Batch\n",
    "\n",
    "définition Batch : différent de temps réel (pas vocation à être ouvert en permanence)\n",
    "\n",
    "==> le fichier python va attérir dans un conteneur blob qui est dans un gpe de resources\n",
    "==> le datafactory va servir a exécuter les pipelines\n",
    "==> les pipelines vont servir à exécuter le fichier python \n",
    "==> les VM sont dans des pool (contenues dans le compte Batch) (c'est ce qui permet de faire les calculs)\n",
    "==> les pools sont dans le compte batch (le pool est une VM)\n",
    "==> les clés sont dans le service batch\n",
    "\n",
    "1 - créer le data factory dans le resource groupe\n",
    "2 - retourner dans ressource group, cliquer sur le data factory créé\n",
    "et lancer le studio (chemin : accueil > monresourcegroup > data factory > nomdudatafctoy)\n",
    "4 - créer un workflow (processus de taches) dans batch (orchestrateur) dans Data factory :\n",
    "+ pipeline : créer un nouveau pipeline > service batch > \"personnalisé\"\n",
    "on configure le service batch personnalisé, dans général, puis dans azure batch : nouveau\n",
    "renseigner tout le paramétrage cad : nom et clé de compte (on trouve la clé de compte dans le batch (bachtdataengineer), on clique sur mon pool, par ex beniac => clés => prendre la clé d'accès primaire)\n",
    "\n",
    "\n",
    "\n",
    "nommer le pipeline\n",
    "\n",
    "A - dans le compte batch > créer un pool :\n",
    "groupe de calcul : pool\n",
    "dans add pool : command line : on peut préinstaler python (apt get update python)\n",
    "\n",
    ">> lui ajouter azure batch link service\n",
    "etiquete \"service batch\" : remplir les commandes\n",
    "lancer le service pour voir si ca fonctionne\n",
    "\n",
    ">> batch accounts > pool > onglets jobs de chaque pool\n",
    "\n",
    "\n",
    "trigger : \n",
    "dans le pipeline symbole éclair \"ajouter un déclencheur\"\n"
   ]
  },
  {
   "cell_type": "code",
   "execution_count": 1,
   "metadata": {},
   "outputs": [
    {
     "name": "stdout",
     "output_type": "stream",
     "text": [
      "Hello world\n"
     ]
    },
    {
     "ename": "KeyboardInterrupt",
     "evalue": "",
     "output_type": "error",
     "traceback": [
      "\u001b[0;31m---------------------------------------------------------------------------\u001b[0m",
      "\u001b[0;31mKeyboardInterrupt\u001b[0m                         Traceback (most recent call last)",
      "Cell \u001b[0;32mIn[1], line 5\u001b[0m\n\u001b[1;32m      3\u001b[0m \u001b[38;5;28;01mwhile\u001b[39;00m \u001b[38;5;28;01mTrue\u001b[39;00m:\n\u001b[1;32m      4\u001b[0m     \u001b[38;5;28mprint\u001b[39m(\u001b[38;5;124m\"\u001b[39m\u001b[38;5;124mHello world\u001b[39m\u001b[38;5;124m\"\u001b[39m)\n\u001b[0;32m----> 5\u001b[0m     \u001b[43msleep\u001b[49m\u001b[43m(\u001b[49m\u001b[38;5;241;43m60\u001b[39;49m\u001b[43m \u001b[49m\u001b[38;5;241;43m*\u001b[39;49m\u001b[43m \u001b[49m\u001b[38;5;241;43m30\u001b[39;49m\u001b[43m)\u001b[49m  \u001b[38;5;66;03m# argument is seconds\u001b[39;00m\n",
      "\u001b[0;31mKeyboardInterrupt\u001b[0m: "
     ]
    }
   ],
   "source": [
    "from time import sleep\n",
    "\n",
    "while True:\n",
    "    print(\"Hello world\")\n",
    "    sleep(60 * 30)  # argument is seconds"
   ]
  }
 ],
 "metadata": {
  "kernelspec": {
   "display_name": "Python 3",
   "language": "python",
   "name": "python3"
  },
  "language_info": {
   "codemirror_mode": {
    "name": "ipython",
    "version": 3
   },
   "file_extension": ".py",
   "mimetype": "text/x-python",
   "name": "python",
   "nbconvert_exporter": "python",
   "pygments_lexer": "ipython3",
   "version": "3.10.12"
  }
 },
 "nbformat": 4,
 "nbformat_minor": 2
}
