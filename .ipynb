{
 "cells": [
  {
   "cell_type": "markdown",
   "metadata": {},
   "source": [
    "consigne : \n",
    "Créer un script de création de groupe de ressources: (créer un fichier .sh et l'exécuter avec linux)\n",
    "Utilisez des variables d’environnement pour définir les paramètres de votre groupe de ressources (nom, localisation)"
   ]
  },
  {
   "cell_type": "code",
   "execution_count": null,
   "metadata": {
    "vscode": {
     "languageId": "plaintext"
    }
   },
   "outputs": [],
   "source": [
    "exemples de commandes Azure :\n",
    "\n",
    "az login ################### se connecter à son compte Azure\n",
    "az account list --create table #savoir combien d'abonnements on a (\"subscription\")\n",
    "az group create --name demoressourcegroup --location francecentral #commande pour créer son groupe ressources"
   ]
  },
  {
   "cell_type": "markdown",
   "metadata": {},
   "source": [
    "rendre le fichier .sh executable avec cette commande : \n",
    "chmod +x suppr_RG.sh\n",
    "\n",
    "./suppr_RG.sh\n",
    "\n",
    "\n"
   ]
  }
 ],
 "metadata": {
  "language_info": {
   "name": "python"
  }
 },
 "nbformat": 4,
 "nbformat_minor": 2
}
